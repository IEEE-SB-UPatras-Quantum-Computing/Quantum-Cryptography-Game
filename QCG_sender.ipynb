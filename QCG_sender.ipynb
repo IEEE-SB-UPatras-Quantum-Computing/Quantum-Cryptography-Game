{
 "cells": [
  {
   "cell_type": "code",
   "execution_count": 1,
   "metadata": {},
   "outputs": [],
   "source": [
    "from qiskit import QuantumCircuit, execute, Aer\n",
    "from qiskit.visualization import plot_bloch_multivector, plot_state_qsphere\n",
    "from random import getrandbits\n",
    "import pickle\n",
    "\n",
    "RETAINED_CHAR = '_'"
   ]
  },
  {
   "cell_type": "code",
   "execution_count": 2,
   "metadata": {},
   "outputs": [],
   "source": [
    "\n",
    "class CryptoCircuit(QuantumCircuit):\n",
    "    def __init__(self, size=7):\n",
    "        # Each qubit representing a bit in ASCII (7-bit)\n",
    "        super().__init__(size)\n",
    "\n",
    "    def initialize(self, code:str):\n",
    "        code = code[::-1] # reverse order\n",
    "        for i in range(len(code)):\n",
    "            self.x(i) if code[i]!='0' else self.i(i)\n",
    "\n",
    "    def add_gate(self, gate:bool):\n",
    "        self.h(self.qubits) if gate else self.i(self.qubits)\n",
    "\n",
    "    def get_measurements(self):\n",
    "        self.measure_all()\n",
    "        sim = Aer.get_backend(\"qasm_simulator\")\n",
    "        counts = execute(self, sim, shots=1).result().get_counts()\n",
    "        return list(counts)[0]\n",
    "\n",
    "    def visualize(self):\n",
    "        sim = Aer.get_backend(\"statevector_simulator\")\n",
    "        statevector = execute(self, sim, shots=1).result().get_statevector()\n",
    "        display(plot_bloch_multivector(statevector))\n",
    "        # display(plot_state_qsphere(statevector))\n",
    "    \n",
    "    def draw(self, output=\"\"):\n",
    "        return (\"You are not allowed to print the circuit..\")\n",
    "\n"
   ]
  },
  {
   "cell_type": "code",
   "execution_count": 3,
   "metadata": {},
   "outputs": [],
   "source": [
    "\n",
    "class ProtocolBB84:\n",
    "\n",
    "    def sender(message:str):\n",
    "        circuits, gates = [], []\n",
    "        for letter in message:\n",
    "            # Skip the already found letters\n",
    "            if letter == RETAINED_CHAR:\n",
    "                circuits.append(None)\n",
    "                gates.append(None)\n",
    "                continue\n",
    "        \n",
    "            # Get letter's binary code\n",
    "            letter = bin(ord(letter))[2:]\n",
    "\n",
    "            # Create Quantum Circuit\n",
    "            circuit = CryptoCircuit()\n",
    "\n",
    "            # Alice's \"random\" byte\n",
    "            circuit.initialize(letter)\n",
    "\n",
    "            # Choose a random sending basis\n",
    "            gates.append(getrandbits(1))\n",
    "            circuit.add_gate(gates[-1])\n",
    "\n",
    "            # Save circuit and gate\n",
    "            circuits.append(circuit)\n",
    "\n",
    "        return circuits, gates\n",
    "\n"
   ]
  },
  {
   "cell_type": "code",
   "execution_count": 4,
   "metadata": {},
   "outputs": [],
   "source": [
    "\n",
    "message = \"BB84 is a Quantum Key Distribution protocol relying on no-cloning theorem.\"\n",
    "\n",
    "circuits_out, sender_gates = ProtocolBB84.sender(message)\n",
    "\n",
    "# Send - write to file\n",
    "with open(\"quantum_channel.txt\", \"bw\") as f:\n",
    "    for circuit in circuits_out:\n",
    "        f.write( pickle.dumps(circuit) + b'\\n\\n')\n",
    "\n",
    "with open(\"classical_channel.txt\", \"w\") as f:\n",
    "    for gate in sender_gates:\n",
    "        f.write( str(gate) )\n",
    "\n"
   ]
  },
  {
   "cell_type": "code",
   "execution_count": null,
   "metadata": {},
   "outputs": [],
   "source": []
  }
 ],
 "metadata": {
  "interpreter": {
   "hash": "11938c6bc6919ae2720b4d5011047913343b08a43b18698fd82dedb0d4417594"
  },
  "kernelspec": {
   "display_name": "Python 3.9.2 64-bit",
   "language": "python",
   "name": "python3"
  },
  "language_info": {
   "codemirror_mode": {
    "name": "ipython",
    "version": 3
   },
   "file_extension": ".py",
   "mimetype": "text/x-python",
   "name": "python",
   "nbconvert_exporter": "python",
   "pygments_lexer": "ipython3",
   "version": "3.9.2"
  },
  "orig_nbformat": 4
 },
 "nbformat": 4,
 "nbformat_minor": 2
}
