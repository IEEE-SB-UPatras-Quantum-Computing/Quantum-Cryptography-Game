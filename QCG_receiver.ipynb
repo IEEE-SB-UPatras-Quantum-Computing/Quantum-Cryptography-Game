{
 "cells": [
  {
   "cell_type": "code",
   "execution_count": 1,
   "metadata": {},
   "outputs": [],
   "source": [
    "from qiskit import QuantumCircuit, execute, Aer\n",
    "from qiskit.visualization import plot_bloch_multivector, plot_state_qsphere\n",
    "from random import getrandbits\n",
    "import pickle\n",
    "\n",
    "RETAINED_CHAR = '_'"
   ]
  },
  {
   "cell_type": "code",
   "execution_count": 2,
   "metadata": {},
   "outputs": [],
   "source": [
    "\n",
    "class CryptoCircuit(QuantumCircuit):\n",
    "    def __init__(self, size=7):\n",
    "        # Each qubit representing a bit in ASCII (7-bit)\n",
    "        super().__init__(size)\n",
    "\n",
    "    def initialize(self, code:str):\n",
    "        code = code[::-1] # reverse order\n",
    "        for i in range(len(code)):\n",
    "            self.x(i) if code[i]!='0' else self.i(i)\n",
    "\n",
    "    def add_gate(self, gate:bool):\n",
    "        self.h(self.qubits) if gate else self.i(self.qubits)\n",
    "\n",
    "    def get_measurements(self):\n",
    "        self.measure_all()\n",
    "        sim = Aer.get_backend(\"qasm_simulator\")\n",
    "        counts = execute(self, sim, shots=1).result().get_counts()\n",
    "        return list(counts)[0]\n",
    "\n",
    "    def visualize(self):\n",
    "        sim = Aer.get_backend(\"statevector_simulator\")\n",
    "        statevector = execute(self, sim, shots=1).result().get_statevector()\n",
    "        display(plot_bloch_multivector(statevector))\n",
    "        # display(plot_state_qsphere(statevector))\n",
    "    \n",
    "    def draw(self, output=\"\"):\n",
    "        return (\"You are not allowed to print the circuit..\")\n",
    "\n"
   ]
  },
  {
   "cell_type": "code",
   "execution_count": 3,
   "metadata": {},
   "outputs": [],
   "source": [
    "\n",
    "class ProtocolBB84:\n",
    "\n",
    "    def receiver(circuits:list[CryptoCircuit]) -> tuple[list[str], list[int]]:\n",
    "        letters, gates = [], []\n",
    "        for circuit in circuits:\n",
    "            # Skip the already found letters\n",
    "            if circuit == None:\n",
    "                letters.append(RETAINED_CHAR)\n",
    "                gates.append(None)\n",
    "                continue\n",
    "\n",
    "            # Choose a random receiving basis\n",
    "            gates.append(getrandbits(1))\n",
    "            circuit.add_gate(gates[-1])\n",
    "\n",
    "            # Measure the qubits to get the received binary code\n",
    "            letter = circuit.get_measurements()\n",
    "            # Get letter from binary code\n",
    "            letters.append(chr(int(letter,2)))\n",
    "\n",
    "        return letters, gates\n",
    "\n",
    "\n",
    "    def classicalChannel(sender_gates, receiver_gates):\n",
    "        correct_chars = []\n",
    "        for i, (sent,received) in enumerate(zip(sender_gates, receiver_gates)):\n",
    "            if sent == received :\n",
    "                correct_chars.append(i)\n",
    "        return correct_chars\n",
    "\n"
   ]
  },
  {
   "cell_type": "code",
   "execution_count": 5,
   "metadata": {},
   "outputs": [
    {
     "name": "stdout",
     "output_type": "stream",
     "text": [
      "B_8_ i____Q_an__m _e_ _is_ri___i_n__r__oc_l _e_y_n_ o_ ____l___ng th_o_em. -> B_8_ i____Q_an__m _e_ _is_ri___i_n__r__oc_l _e_y_n_ o_ ____l___ng th_o_em.\n",
      "BB84 is a__ua__u__K____i__ri___io__p_o_o____re_yi_g _n____clon_n_ __e_r___ -> BB84 is a_Quan_um Ke_ _is_ri___ion_pro_oc_l re_ying on ___clon_ng theorem.\n",
      "B__4 _s a___an_um Ke_ _i_tr__ut___ __oto_o_ rely___ o__no-__o__ng ______m_ -> BB84 is a_Quan_um Ke_ _istri_ution protocol relying on no-clon_ng theorem.\n",
      "BB_4 is__ Q_an_um _e_ _i_trib___o_____toc_l __ly_____n no-c__n_n_ ___o__m. -> BB84 is a Quan_um Ke_ _istribution protocol relying on no-clon_ng theorem.\n",
      "BB_________ua_t_m______i_tri______ prot___l re_ying o__n__c_o_i___th_orem_ -> BB84 is a Quantum Ke_ _istribution protocol relying on no-cloning theorem.\n",
      "___4 __ ____an__m_Ke__D__t___ut__n _r_t___l r__y__g __ _o_cl_____ t_e_rem. -> BB84 is a Quantum Ke_ Distribution protocol relying on no-cloning theorem.\n",
      "_B84_is__ Q__ntum_Key __str_b____n_pr___c__ __ly__g____n_-clonin_ _he__e_. -> BB84 is a Quantum Key Distribution protocol relying on no-cloning theorem.\n"
     ]
    }
   ],
   "source": [
    "\n",
    "# Receive - read from file\n",
    "with open(\"quantum_channel.txt\", \"br\") as f:\n",
    "    circuits_in = f.read().split(b'\\n\\n')[:-1]\n",
    "\n",
    "with open(\"classical_channel.txt\", \"r\") as f:\n",
    "    sender_gates = [int(gate) for gate in f.read()]\n",
    "\n",
    "\n",
    "# In real example this loop would not be possible since the quantum state would colapse\n",
    "final_message = RETAINED_CHAR *len(sender_gates)\n",
    "while '_' in final_message:\n",
    "    received_message, receiver_gates = ProtocolBB84.receiver([pickle.loads(circuit) for circuit in circuits_in])\n",
    "\n",
    "    correct_chars = ProtocolBB84.classicalChannel(sender_gates, receiver_gates)\n",
    "    received_correctly = ''.join([letter if i in correct_chars else RETAINED_CHAR for i,letter in enumerate(received_message)])\n",
    "    \n",
    "    final_message = ''.join([ letter if letter!=RETAINED_CHAR else received_correctly[i] for i, letter in enumerate(final_message) ])\n",
    "\n",
    "    print(received_correctly, '->', final_message)\n",
    "\n"
   ]
  },
  {
   "cell_type": "code",
   "execution_count": null,
   "metadata": {},
   "outputs": [],
   "source": []
  }
 ],
 "metadata": {
  "interpreter": {
   "hash": "11938c6bc6919ae2720b4d5011047913343b08a43b18698fd82dedb0d4417594"
  },
  "kernelspec": {
   "display_name": "Python 3.9.2 64-bit",
   "language": "python",
   "name": "python3"
  },
  "language_info": {
   "codemirror_mode": {
    "name": "ipython",
    "version": 3
   },
   "file_extension": ".py",
   "mimetype": "text/x-python",
   "name": "python",
   "nbconvert_exporter": "python",
   "pygments_lexer": "ipython3",
   "version": "3.9.2"
  },
  "orig_nbformat": 4
 },
 "nbformat": 4,
 "nbformat_minor": 2
}
