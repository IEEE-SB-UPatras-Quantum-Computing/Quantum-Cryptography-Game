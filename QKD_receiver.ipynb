{
 "cells": [
  {
   "cell_type": "code",
   "execution_count": 1,
   "metadata": {},
   "outputs": [],
   "source": [
    "from qiskit import QuantumCircuit\n",
    "from qiskit.visualization import plot_bloch_multivector, plot_state_qsphere\n",
    "from qiskit.quantum_info import Statevector\n",
    "from qiskit.primitives import StatevectorSampler\n",
    "from random import getrandbits\n",
    "import pickle\n",
    "\n",
    "RETAINED_CHAR = '_'"
   ]
  },
  {
   "cell_type": "code",
   "execution_count": 2,
   "metadata": {},
   "outputs": [],
   "source": [
    "class CryptoCircuit(QuantumCircuit):\n",
    "    def __init__(self, size=7):\n",
    "        # Each qubit representing a bit in ASCII (7-bit)\n",
    "        super().__init__(size)\n",
    "        self.sampler = StatevectorSampler()\n",
    "\n",
    "    def initialize(self, code:str):\n",
    "        code = code[::-1] # reverse order\n",
    "        for i in range(len(code)):\n",
    "            self.x(i) if code[i]!='0' else self.id(i)\n",
    "\n",
    "    def add_gate(self, gate:bool):\n",
    "        self.h(self.qubits) if gate else self.id(self.qubits)\n",
    "\n",
    "    def get_measurements(self):\n",
    "        self.measure_all()\n",
    "        result = self.sampler.run([(self)], shots=1).result()[0]\n",
    "        counts = result.data['meas'].get_counts()\n",
    "        return list(counts)[0]\n",
    "\n",
    "    def visualize(self):\n",
    "        statevector = Statevector(self)\n",
    "        display(plot_bloch_multivector(statevector))\n",
    "        # display(plot_state_qsphere(statevector))\n",
    "    \n",
    "    def draw(self, output=\"\"):\n",
    "        return (\"You are not allowed to print the circuit..\")\n",
    "\n"
   ]
  },
  {
   "cell_type": "code",
   "execution_count": 3,
   "metadata": {},
   "outputs": [],
   "source": [
    "class ProtocolBB84:\n",
    "\n",
    "    def receiver(circuits:list[CryptoCircuit]) -> tuple[list[str], list[int]]:\n",
    "        letters, gates = [], []\n",
    "        for circuit in circuits:\n",
    "            # Skip the already found letters\n",
    "            if circuit == None:\n",
    "                letters.append(RETAINED_CHAR)\n",
    "                gates.append(None)\n",
    "                continue\n",
    "\n",
    "            # Choose a random receiving basis\n",
    "            gates.append(getrandbits(1))\n",
    "            circuit.add_gate(gates[-1])\n",
    "\n",
    "            # Measure the qubits to get the received binary code\n",
    "            letter = circuit.get_measurements()\n",
    "            # Get letter from binary code\n",
    "            letters.append(chr(int(letter,2)))\n",
    "\n",
    "        return letters, gates\n",
    "\n",
    "\n",
    "    def classicalChannel(sender_gates, receiver_gates):\n",
    "        correct_chars = []\n",
    "        for i, (sent,received) in enumerate(zip(sender_gates, receiver_gates)):\n",
    "            if sent == received :\n",
    "                correct_chars.append(i)\n",
    "        return correct_chars\n",
    "\n"
   ]
  },
  {
   "cell_type": "code",
   "execution_count": 4,
   "metadata": {},
   "outputs": [
    {
     "name": "stdout",
     "output_type": "stream",
     "text": [
      "B_84 _s _ _u___um_K_y ___t___ut___ _r_toc___re__ing __ t_e_n___loni_____eo__m. -> B_84 _s _ _u___um_K_y ___t___ut___ _r_toc___re__ing __ t_e_n___loni_____eo__m.\n",
      "BB84 is_a Qu__tu_ _ey_D_s_rib____n __oto_______ying on_the_n_-c____ng _he_r___ -> BB84 is a Qu__tum Key D_stribut__n _rotoc___re_ying on the_n_-cloning _heor_m.\n",
      "_B8_ __ a_Qua_tum__e___i__ri___io_ pr_t__o___e____g _n _he__o_c__n____th__rem_ -> BB84 is a Qua_tum Key Distribution protoco__re_ying on the_no-cloning theorem.\n",
      "__84 __ a__ua__u_ K__ _ist_ibuti_n pro___o__r_ly_ng_on __e __-_l_n______eo_em. -> BB84 is a Qua_tum Key Distribution protoco__relying on the no-cloning theorem.\n",
      "B____i_ __Q__ntu_ ___________u__on __ot____ r_ly_ng o_ ____n_____n__g _h_ore_. -> BB84 is a Quantum Key Distribution protoco_ relying on the no-cloning theorem.\n",
      "___4_____ _ua_t_m__e_ _istr_but__n______co_ re____g___ _h____-cl_____ th_o__m_ -> BB84 is a Quantum Key Distribution protoco_ relying on the no-cloning theorem.\n",
      "__84 is_a___an_u_ ___ _i_t__buti__ ____oc_l ___y_n_ on___e no-cl_n_n____e_r_m_ -> BB84 is a Quantum Key Distribution protocol relying on the no-cloning theorem.\n"
     ]
    }
   ],
   "source": [
    "\n",
    "# Receive - read from file\n",
    "with open(\"quantum_channel.txt\", \"br\") as f:\n",
    "    circuits_in = f.read().split(b'\\n\\n')[:-1]\n",
    "\n",
    "with open(\"classical_channel.txt\", \"r\") as f:\n",
    "    sender_gates = [int(gate) for gate in f.read()]\n",
    "\n",
    "\n",
    "# In real example this loop would not be possible since the quantum state would colapse\n",
    "final_message = RETAINED_CHAR *len(sender_gates)\n",
    "while RETAINED_CHAR in final_message:\n",
    "    received_message, receiver_gates = ProtocolBB84.receiver([pickle.loads(circuit) for circuit in circuits_in])\n",
    "\n",
    "    correct_chars = ProtocolBB84.classicalChannel(sender_gates, receiver_gates)\n",
    "    received_correctly = ''.join([letter if i in correct_chars else RETAINED_CHAR for i,letter in enumerate(received_message)])\n",
    "    \n",
    "    final_message = ''.join([ letter if letter!=RETAINED_CHAR else received_correctly[i] for i, letter in enumerate(final_message) ])\n",
    "\n",
    "    print(received_correctly, '->', final_message)\n",
    "\n"
   ]
  },
  {
   "cell_type": "code",
   "execution_count": null,
   "metadata": {},
   "outputs": [],
   "source": []
  }
 ],
 "metadata": {
  "kernelspec": {
   "display_name": "Python 3",
   "language": "python",
   "name": "python3"
  },
  "language_info": {
   "codemirror_mode": {
    "name": "ipython",
    "version": 3
   },
   "file_extension": ".py",
   "mimetype": "text/x-python",
   "name": "python",
   "nbconvert_exporter": "python",
   "pygments_lexer": "ipython3",
   "version": "3.12.4"
  },
  "orig_nbformat": 4
 },
 "nbformat": 4,
 "nbformat_minor": 2
}
